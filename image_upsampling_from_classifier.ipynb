{
 "cells": [
  {
   "cell_type": "code",
   "execution_count": 1,
   "id": "a6ef5ca2",
   "metadata": {},
   "outputs": [],
   "source": [
    "import torch\n",
    "import torchvision\n",
    "from torchvision import models\n",
    "import torchvision.transforms as transforms\n",
    "from torch import nn\n",
    "from torch.nn import functional as F\n",
    "\n",
    "import numpy as np\n",
    "import matplotlib.pyplot as plt\n",
    "\n",
    "import utils\n",
    "import utils.data, utils.ML, utils.models\n",
    "from utils.models import number_of_parameters\n",
    "\n",
    "import copy"
   ]
  },
  {
   "cell_type": "code",
   "execution_count": 2,
   "id": "c9bd0764",
   "metadata": {},
   "outputs": [],
   "source": [
    "device = \"mps\""
   ]
  },
  {
   "cell_type": "code",
   "execution_count": 8,
   "id": "f453d3d4",
   "metadata": {},
   "outputs": [],
   "source": [
    "batch_size = 32\n",
    "num_workers = 4\n",
    "\n",
    "loss_fn = nn.CrossEntropyLoss()"
   ]
  },
  {
   "cell_type": "code",
   "execution_count": 6,
   "id": "820bba8b",
   "metadata": {},
   "outputs": [],
   "source": [
    "transform_CIFAR = transforms.Compose(\n",
    "    [transforms.ToTensor(),\n",
    "     transforms.Normalize((0.5, 0.5, 0.5), (0.5, 0.5, 0.5))])\n",
    "\n",
    "train_dataloader, val_dataloader, test_dataloader = utils.data.get_CIFAR_data_loaders(batch_size, transform_CIFAR, num_workers=0)\n",
    "\n",
    "alexnet = models.alexnet(weights=models.AlexNet_Weights.IMAGENET1K_V1)"
   ]
  },
  {
   "cell_type": "code",
   "execution_count": 4,
   "id": "66b77faf",
   "metadata": {},
   "outputs": [],
   "source": [
    "class upsampled_classifier(nn.Module):\n",
    "    \n",
    "    def __init__(self):\n",
    "        super(upsampled_classifier, self).__init__()\n",
    "        \n",
    "        self.upsampling = nn.Sequential(nn.ConvTranspose2d(3, 3, (2, 2), stride=2, bias=False),\n",
    "                                       nn.ConvTranspose2d(3, 3, (2, 2), stride=2, bias=False),\n",
    "                                       nn.ConvTranspose2d(3, 3, (2, 2), stride=2, bias=False)) # out: 3x256x256\n",
    "        \n",
    "        self.upsampling[0].weight.data.fill_(1.0)\n",
    "        self.upsampling[1].weight.data.fill_(1.0)\n",
    "        self.upsampling[2].weight.data.fill_(1.0)\n",
    "        \n",
    "        self.features = alexnet.features  # output: 256x6x6\n",
    "        \n",
    "        self.avg_pooling = nn.AdaptiveAvgPool2d(output_size=(6,6))\n",
    "        self.flatten = nn.Flatten()\n",
    "        \n",
    "        self.classifier = nn.Sequential(nn.Linear(9216, 1024),\n",
    "                                        nn.ReLU(),\n",
    "                                        nn.Linear(1024, 10))\n",
    "        \n",
    "    def forward(self, x):\n",
    "\n",
    "        x = self.upsampling(x)\n",
    "        x = self.features(x)\n",
    "        x = self.avg_pooling(x)\n",
    "        x = self.flatten(x)\n",
    "        x = self.classifier(x)\n",
    "\n",
    "        return x"
   ]
  },
  {
   "cell_type": "code",
   "execution_count": 9,
   "id": "e4eb313e",
   "metadata": {},
   "outputs": [
    {
     "name": "stdout",
     "output_type": "stream",
     "text": [
      " epoch:  1, training loss: inf, validation loss 1.081, validation accuracy 0.619\n"
     ]
    },
    {
     "ename": "KeyboardInterrupt",
     "evalue": "",
     "output_type": "error",
     "traceback": [
      "\u001b[0;31m---------------------------------------------------------------------------\u001b[0m",
      "\u001b[0;31mKeyboardInterrupt\u001b[0m                         Traceback (most recent call last)",
      "Input \u001b[0;32mIn [9]\u001b[0m, in \u001b[0;36m<cell line: 10>\u001b[0;34m()\u001b[0m\n\u001b[1;32m      6\u001b[0m optimizer \u001b[38;5;241m=\u001b[39m torch\u001b[38;5;241m.\u001b[39moptim\u001b[38;5;241m.\u001b[39mAdam(model\u001b[38;5;241m.\u001b[39mparameters(), lr\u001b[38;5;241m=\u001b[39m\u001b[38;5;241m1e-3\u001b[39m)\n\u001b[1;32m      8\u001b[0m num_epochs \u001b[38;5;241m=\u001b[39m \u001b[38;5;241m5\u001b[39m\n\u001b[0;32m---> 10\u001b[0m train_loss_log, val_loss_log \u001b[38;5;241m=\u001b[39m \u001b[43mutils\u001b[49m\u001b[38;5;241;43m.\u001b[39;49m\u001b[43mML\u001b[49m\u001b[38;5;241;43m.\u001b[39;49m\u001b[43mtrain_model\u001b[49m\u001b[43m(\u001b[49m\u001b[43mmodel\u001b[49m\u001b[43m,\u001b[49m\u001b[43m \u001b[49m\u001b[43mtrain_dataloader\u001b[49m\u001b[43m,\u001b[49m\u001b[43m \u001b[49m\u001b[43mval_dataloader\u001b[49m\u001b[43m,\u001b[49m\u001b[43m \u001b[49m\u001b[43moptimizer\u001b[49m\u001b[43m,\u001b[49m\u001b[43m \u001b[49m\u001b[43mloss_fn\u001b[49m\u001b[43m,\u001b[49m\u001b[43m \u001b[49m\u001b[43mnum_epochs\u001b[49m\u001b[43m,\u001b[49m\u001b[43m \u001b[49m\u001b[43mdevice\u001b[49m\u001b[43m,\u001b[49m\u001b[43m \u001b[49m\u001b[43mverbose\u001b[49m\u001b[38;5;241;43m=\u001b[39;49m\u001b[38;5;28;43;01mTrue\u001b[39;49;00m\u001b[43m)\u001b[49m\n",
      "File \u001b[0;32m~/Documents/Code/deep_learning_playground/utils/ML.py:36\u001b[0m, in \u001b[0;36mtrain_model\u001b[0;34m(model, train_dataloader, val_dataloader, optimizer, loss_fn, num_epochs, device, verbose)\u001b[0m\n\u001b[1;32m     33\u001b[0m loss\u001b[38;5;241m.\u001b[39mbackward()\n\u001b[1;32m     34\u001b[0m optimizer\u001b[38;5;241m.\u001b[39mstep()\n\u001b[0;32m---> 36\u001b[0m batch_loss \u001b[38;5;241m=\u001b[39m \u001b[43mloss\u001b[49m\u001b[38;5;241;43m.\u001b[39;49m\u001b[43mitem\u001b[49m\u001b[43m(\u001b[49m\u001b[43m)\u001b[49m\n\u001b[1;32m     37\u001b[0m epoch_loss \u001b[38;5;241m+\u001b[39m\u001b[38;5;241m=\u001b[39m batch_loss \u001b[38;5;241m*\u001b[39m \u001b[38;5;28mlen\u001b[39m(y)\n\u001b[1;32m     38\u001b[0m num_samples \u001b[38;5;241m+\u001b[39m\u001b[38;5;241m=\u001b[39m \u001b[38;5;28mlen\u001b[39m(y)\n",
      "\u001b[0;31mKeyboardInterrupt\u001b[0m: "
     ]
    }
   ],
   "source": [
    "model = upsampled_classifier().to(device)\n",
    "\n",
    "for param in model.features.parameters():\n",
    "    param.requires_grad = False\n",
    "\n",
    "optimizer = torch.optim.Adam(model.parameters(), lr=1e-3)\n",
    "\n",
    "num_epochs = 5\n",
    "\n",
    "train_loss_log, val_loss_log = utils.ML.train_model(model, train_dataloader, val_dataloader, optimizer, loss_fn, num_epochs, device, verbose=True)\n"
   ]
  },
  {
   "cell_type": "code",
   "execution_count": null,
   "id": "dc745d22",
   "metadata": {},
   "outputs": [],
   "source": [
    "X, y = next(iter(test_dataloader))\n",
    "\n",
    "X_upsample = model.upsampling(X.to(\"mps\"))\n",
    "\n",
    "print(X_upsample.shape)"
   ]
  },
  {
   "cell_type": "code",
   "execution_count": null,
   "id": "374b095c",
   "metadata": {},
   "outputs": [],
   "source": [
    "i = 1\n",
    "\n",
    "im = X_upsample[i].detach().to('cpu')\n",
    "\n",
    "print(im.min(), im.max())\n",
    "\n",
    "im = (im - im.min())/(im.max() - im.min())\n",
    "\n",
    "print(im.min(), im.max())\n",
    "\n",
    "plt.figure()\n",
    "plt.imshow(np.transpose(im, (1, 2, 0)))"
   ]
  }
 ],
 "metadata": {
  "kernelspec": {
   "display_name": "Python 3 (ipykernel)",
   "language": "python",
   "name": "python3"
  },
  "language_info": {
   "codemirror_mode": {
    "name": "ipython",
    "version": 3
   },
   "file_extension": ".py",
   "mimetype": "text/x-python",
   "name": "python",
   "nbconvert_exporter": "python",
   "pygments_lexer": "ipython3",
   "version": "3.10.4"
  }
 },
 "nbformat": 4,
 "nbformat_minor": 5
}
