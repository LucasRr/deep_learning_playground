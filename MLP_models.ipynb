{
 "cells": [
  {
   "cell_type": "code",
   "execution_count": 1,
   "id": "fc9f4c28",
   "metadata": {},
   "outputs": [],
   "source": [
    "import torch\n",
    "from torch import nn\n",
    "from torch.utils.data import DataLoader\n",
    "from torchvision import datasets\n",
    "from torchvision.transforms import ToTensor\n",
    "\n",
    "import numpy as np\n",
    "import matplotlib.pyplot as plt\n",
    "\n",
    "import time"
   ]
  },
  {
   "cell_type": "code",
   "execution_count": 2,
   "id": "da5b7aa4",
   "metadata": {},
   "outputs": [
    {
     "data": {
      "text/plain": [
       "<torch._C.Generator at 0x10854fe10>"
      ]
     },
     "execution_count": 2,
     "metadata": {},
     "output_type": "execute_result"
    }
   ],
   "source": [
    "torch.manual_seed(0)"
   ]
  },
  {
   "cell_type": "markdown",
   "id": "0a15b181",
   "metadata": {},
   "source": [
    "# Download data, prepare data loaders"
   ]
  },
  {
   "cell_type": "code",
   "execution_count": 3,
   "id": "5468e3bc",
   "metadata": {},
   "outputs": [],
   "source": [
    "# Download train and test data:\n",
    "\n",
    "training_data_ = datasets.MNIST(\n",
    "    root=\"/Users/lucas/Documents/Data/\",\n",
    "    train=True,\n",
    "    download=True,\n",
    "    transform=ToTensor(),\n",
    ")\n",
    "\n",
    "test_data = datasets.MNIST(\n",
    "    root=\"/Users/lucas/Documents/Data/\",\n",
    "    train=False,\n",
    "    download=True,\n",
    "    transform=ToTensor(),\n",
    ")"
   ]
  },
  {
   "cell_type": "code",
   "execution_count": 4,
   "id": "dfda57a9",
   "metadata": {},
   "outputs": [
    {
     "name": "stdout",
     "output_type": "stream",
     "text": [
      "Train set:      50000 samples\n",
      "Validation set: 10000 samples\n",
      "Test set:       10000 samples\n"
     ]
    }
   ],
   "source": [
    "# Split training data into train and validation:\n",
    "\n",
    "train_split, val_split = torch.utils.data.random_split(training_data_, [50000, 10000], generator=torch.Generator().manual_seed(42))\n",
    "\n",
    "print(f'Train set:      {len(train_split)} samples')\n",
    "print(f'Validation set: {len(val_split)} samples')\n",
    "print(f'Test set:       {len(test_data)} samples')"
   ]
  },
  {
   "cell_type": "code",
   "execution_count": 5,
   "id": "785dfefe",
   "metadata": {},
   "outputs": [
    {
     "name": "stdout",
     "output_type": "stream",
     "text": [
      "X: shape torch.Size([64, 1, 28, 28]) type torch.float32\n",
      "y: shape torch.Size([64]) type torch.int64\n"
     ]
    }
   ],
   "source": [
    "# Create data loaders with a given batch size:\n",
    "\n",
    "batch_size = 64\n",
    "\n",
    "# Create data loaders.\n",
    "train_dataloader = DataLoader(train_split, batch_size=batch_size, shuffle=True)\n",
    "val_dataloader = DataLoader(val_split, batch_size=batch_size)\n",
    "test_dataloader = DataLoader(test_data, batch_size=batch_size)\n",
    "\n",
    "# Check first batch:\n",
    "X, y = next(iter(test_dataloader))\n",
    "print(f\"X: shape {X.shape} type {X.dtype}\")\n",
    "print(f\"y: shape {y.shape} type {y.dtype}\")"
   ]
  },
  {
   "cell_type": "markdown",
   "id": "e0ab7b06",
   "metadata": {},
   "source": [
    "# 1) Baseline: Logistic regression"
   ]
  },
  {
   "cell_type": "markdown",
   "id": "6769ddb3",
   "metadata": {},
   "source": [
    "We first train a simple logistic regression model, which can be used as our baseline."
   ]
  },
  {
   "cell_type": "markdown",
   "id": "b89ce8c1",
   "metadata": {},
   "source": [
    "### Define model:"
   ]
  },
  {
   "cell_type": "code",
   "execution_count": 6,
   "id": "3a596e70",
   "metadata": {},
   "outputs": [
    {
     "name": "stdout",
     "output_type": "stream",
     "text": [
      "LogisticRegression(\n",
      "  (flatten): Flatten(start_dim=1, end_dim=-1)\n",
      "  (linear): Linear(in_features=784, out_features=10, bias=True)\n",
      ")\n"
     ]
    }
   ],
   "source": [
    "device = 'cpu'\n",
    "\n",
    "class LogisticRegression(nn.Module):\n",
    "    def __init__(self):\n",
    "        super(LogisticRegression, self).__init__()\n",
    "        self.flatten = nn.Flatten()\n",
    "        self.linear = nn.Linear(28*28, 10)\n",
    "\n",
    "    def forward(self, x):\n",
    "        x = self.flatten(x)\n",
    "        logits = self.linear(x)\n",
    "        return logits\n",
    "\n",
    "model = LogisticRegression().to(device)\n",
    "\n",
    "print(model)"
   ]
  },
  {
   "cell_type": "code",
   "execution_count": 7,
   "id": "15ec19e4",
   "metadata": {},
   "outputs": [
    {
     "name": "stdout",
     "output_type": "stream",
     "text": [
      "Model LogisticRegression contains 7850 parameters\n"
     ]
    }
   ],
   "source": [
    "# Check number of parameters:\n",
    "\n",
    "def number_of_parameters(model):\n",
    "    return sum(torch.numel(p) for p in model.parameters())\n",
    "\n",
    "print(f'Model {model.__class__.__name__} contains {number_of_parameters(model)} parameters')"
   ]
  },
  {
   "cell_type": "markdown",
   "id": "b0352801",
   "metadata": {},
   "source": [
    "### Define a loss function (Cross-Entropy):\n",
    "\n",
    "Note that nn.CrossEntropyLoss() already performs a softmax operation, so no need to add softmax() in the model "
   ]
  },
  {
   "cell_type": "code",
   "execution_count": 8,
   "id": "35b380cf",
   "metadata": {},
   "outputs": [],
   "source": [
    "loss_fn = nn.CrossEntropyLoss()"
   ]
  },
  {
   "cell_type": "markdown",
   "id": "5a537bca",
   "metadata": {},
   "source": [
    "### Training and evaluation functions:"
   ]
  },
  {
   "cell_type": "code",
   "execution_count": 9,
   "id": "e7edb7a6",
   "metadata": {},
   "outputs": [],
   "source": [
    "def train_model(model, optimizer, num_epochs, verbose = True):\n",
    "    '''\n",
    "        Train a model, given an optimizer and a number of epochs.\n",
    "        Computes validation loss and accuracy after each epoch, and prints train/validation metrics.\n",
    "        Returns per-iteration train and validation losses, for plotting.\n",
    "    '''\n",
    "    \n",
    "    model.train()\n",
    "\n",
    "    train_loss_log = []\n",
    "    val_loss_log = []\n",
    "\n",
    "    t = time.time()\n",
    "\n",
    "    for i_epoch in range(num_epochs):\n",
    "\n",
    "        epoch_loss = 0\n",
    "\n",
    "        for i_batch, (X, y) in enumerate(train_dataloader):\n",
    "            X, y = X.to(device), y.to(device)\n",
    "\n",
    "            # Compute prediction error\n",
    "            pred = model(X)\n",
    "            loss = loss_fn(pred, y)\n",
    "\n",
    "            # Backpropagation\n",
    "            optimizer.zero_grad()\n",
    "            loss.backward()\n",
    "            optimizer.step()\n",
    "\n",
    "            batch_loss = loss.item()\n",
    "            epoch_loss += batch_loss * len(y)\n",
    "\n",
    "        # calculate average loss of this epoch:\n",
    "        mean_epoch_loss = epoch_loss/len(train_split)  \n",
    "\n",
    "        # calculate validation loss and accuracy:\n",
    "        val_loss, val_acc = evaluate_model(val_dataloader)\n",
    "        model.train()\n",
    "        \n",
    "        # print and save metrics:\n",
    "        if verbose:\n",
    "            print(f\" epoch: {i_epoch+1:>2}, training loss: {mean_epoch_loss:.3f}, validation loss {val_loss:.3f}, validation accuracy {val_acc:.3f}\")\n",
    "\n",
    "        train_loss_log.append(mean_epoch_loss)\n",
    "        val_loss_log.append(val_loss)\n",
    "\n",
    "    # Calculate average time per epoch:\n",
    "    time_per_epoch = (time.time()-t)/num_epochs\n",
    "    \n",
    "    if verbose:\n",
    "        print(f'\\nAverage time per epoch: {time_per_epoch:.3f}s')\n",
    "    \n",
    "    return train_loss_log, val_loss_log"
   ]
  },
  {
   "cell_type": "code",
   "execution_count": 10,
   "id": "17deb413",
   "metadata": {},
   "outputs": [],
   "source": [
    "def evaluate_model(data_loader):\n",
    "    ''' Calculates average loss and accuracy over a dataset'''\n",
    "    model.eval()\n",
    "    \n",
    "    num_correct = 0\n",
    "    total_loss = 0\n",
    "    num_samples = 0\n",
    "\n",
    "    for i_batch, (X, y) in enumerate(data_loader):\n",
    "        X, y = X.to(device), y.to(device)\n",
    "\n",
    "        # Prediction on batch X:\n",
    "        with torch.no_grad():\n",
    "            pred = model(X)\n",
    "            \n",
    "        # Predicted class indexes:\n",
    "        pred_idx = torch.argmax(pred, dim=1)\n",
    "        \n",
    "        # Batch loss:\n",
    "        batch_loss = loss_fn(pred, y).item()\n",
    "\n",
    "        total_loss += batch_loss * len(y)\n",
    "        num_correct += torch.sum(pred_idx == y).item()\n",
    "        num_samples += len(y)\n",
    "\n",
    "    average_loss = total_loss/num_samples\n",
    "    accuracy = num_correct/num_samples\n",
    "        \n",
    "    return average_loss, accuracy"
   ]
  },
  {
   "cell_type": "code",
   "execution_count": 11,
   "id": "9d40ee8e",
   "metadata": {},
   "outputs": [],
   "source": [
    "def print_overall_metrics():\n",
    "    ''' Prints loss and accuracy for train, validation and test sets'''\n",
    "    average_loss, accuracy = evaluate_model(train_dataloader)\n",
    "    print(f\"train loss:      {average_loss:.5f}, accuracy: {accuracy:.5f}\")\n",
    "\n",
    "    average_loss, accuracy = evaluate_model(val_dataloader)\n",
    "    print(f\"validation loss: {average_loss:.5f}, accuracy: {accuracy:.5f}\")\n",
    "\n",
    "    average_loss, accuracy = evaluate_model(test_dataloader)\n",
    "    print(f\"test loss:       {average_loss:.5f}, accuracy: {accuracy:.5f}\")"
   ]
  },
  {
   "cell_type": "markdown",
   "id": "b1f0be89",
   "metadata": {},
   "source": [
    "### Train model using SGD:"
   ]
  },
  {
   "cell_type": "code",
   "execution_count": 12,
   "id": "e9463dfb",
   "metadata": {
    "scrolled": true
   },
   "outputs": [
    {
     "name": "stdout",
     "output_type": "stream",
     "text": [
      " epoch:  1, training loss: 0.501, validation loss 0.373, validation accuracy 0.897\n",
      " epoch:  2, training loss: 0.345, validation loss 0.341, validation accuracy 0.906\n",
      " epoch:  3, training loss: 0.319, validation loss 0.328, validation accuracy 0.907\n",
      " epoch:  4, training loss: 0.306, validation loss 0.318, validation accuracy 0.910\n",
      " epoch:  5, training loss: 0.297, validation loss 0.312, validation accuracy 0.912\n",
      " epoch:  6, training loss: 0.291, validation loss 0.309, validation accuracy 0.913\n",
      " epoch:  7, training loss: 0.286, validation loss 0.306, validation accuracy 0.914\n",
      " epoch:  8, training loss: 0.282, validation loss 0.305, validation accuracy 0.915\n",
      " epoch:  9, training loss: 0.279, validation loss 0.302, validation accuracy 0.915\n",
      " epoch: 10, training loss: 0.276, validation loss 0.304, validation accuracy 0.915\n",
      " epoch: 11, training loss: 0.274, validation loss 0.300, validation accuracy 0.916\n",
      " epoch: 12, training loss: 0.271, validation loss 0.300, validation accuracy 0.917\n",
      " epoch: 13, training loss: 0.270, validation loss 0.300, validation accuracy 0.916\n",
      " epoch: 14, training loss: 0.268, validation loss 0.300, validation accuracy 0.916\n",
      " epoch: 15, training loss: 0.266, validation loss 0.296, validation accuracy 0.918\n",
      " epoch: 16, training loss: 0.265, validation loss 0.299, validation accuracy 0.917\n",
      " epoch: 17, training loss: 0.263, validation loss 0.296, validation accuracy 0.918\n",
      " epoch: 18, training loss: 0.262, validation loss 0.296, validation accuracy 0.920\n",
      " epoch: 19, training loss: 0.261, validation loss 0.297, validation accuracy 0.919\n",
      " epoch: 20, training loss: 0.260, validation loss 0.297, validation accuracy 0.918\n",
      " epoch: 21, training loss: 0.259, validation loss 0.299, validation accuracy 0.918\n",
      " epoch: 22, training loss: 0.258, validation loss 0.295, validation accuracy 0.920\n",
      " epoch: 23, training loss: 0.257, validation loss 0.296, validation accuracy 0.916\n",
      " epoch: 24, training loss: 0.256, validation loss 0.305, validation accuracy 0.914\n",
      " epoch: 25, training loss: 0.256, validation loss 0.293, validation accuracy 0.918\n",
      " epoch: 26, training loss: 0.255, validation loss 0.293, validation accuracy 0.919\n",
      " epoch: 27, training loss: 0.254, validation loss 0.301, validation accuracy 0.917\n",
      " epoch: 28, training loss: 0.254, validation loss 0.295, validation accuracy 0.918\n",
      " epoch: 29, training loss: 0.253, validation loss 0.295, validation accuracy 0.919\n",
      " epoch: 30, training loss: 0.252, validation loss 0.295, validation accuracy 0.918\n",
      " epoch: 31, training loss: 0.252, validation loss 0.294, validation accuracy 0.918\n",
      " epoch: 32, training loss: 0.251, validation loss 0.295, validation accuracy 0.918\n",
      " epoch: 33, training loss: 0.251, validation loss 0.297, validation accuracy 0.918\n",
      " epoch: 34, training loss: 0.250, validation loss 0.297, validation accuracy 0.917\n",
      " epoch: 35, training loss: 0.250, validation loss 0.296, validation accuracy 0.918\n",
      " epoch: 36, training loss: 0.249, validation loss 0.295, validation accuracy 0.919\n",
      " epoch: 37, training loss: 0.249, validation loss 0.293, validation accuracy 0.919\n",
      " epoch: 38, training loss: 0.248, validation loss 0.295, validation accuracy 0.920\n",
      " epoch: 39, training loss: 0.248, validation loss 0.295, validation accuracy 0.919\n",
      " epoch: 40, training loss: 0.247, validation loss 0.294, validation accuracy 0.919\n",
      " epoch: 41, training loss: 0.247, validation loss 0.296, validation accuracy 0.917\n",
      " epoch: 42, training loss: 0.247, validation loss 0.296, validation accuracy 0.921\n",
      " epoch: 43, training loss: 0.246, validation loss 0.298, validation accuracy 0.917\n",
      " epoch: 44, training loss: 0.246, validation loss 0.295, validation accuracy 0.919\n",
      " epoch: 45, training loss: 0.245, validation loss 0.296, validation accuracy 0.919\n",
      " epoch: 46, training loss: 0.245, validation loss 0.293, validation accuracy 0.919\n",
      " epoch: 47, training loss: 0.245, validation loss 0.295, validation accuracy 0.918\n",
      " epoch: 48, training loss: 0.244, validation loss 0.296, validation accuracy 0.918\n",
      " epoch: 49, training loss: 0.244, validation loss 0.295, validation accuracy 0.918\n",
      " epoch: 50, training loss: 0.244, validation loss 0.296, validation accuracy 0.919\n",
      "\n",
      "Average time per epoch: 1.314s\n"
     ]
    }
   ],
   "source": [
    "# Re-instantiate model to re-initialize weights:\n",
    "model = LogisticRegression().to(device)\n",
    "\n",
    "# Define optimizer:\n",
    "optimizer = torch.optim.SGD(model.parameters(), lr=1e-1)\n",
    "\n",
    "# Define number of epochs:\n",
    "num_epochs = 50\n",
    "\n",
    "# Train model:\n",
    "train_loss_log, val_loss_log = train_model(model, optimizer, num_epochs)"
   ]
  },
  {
   "cell_type": "code",
   "execution_count": 13,
   "id": "51a96df6",
   "metadata": {},
   "outputs": [
    {
     "name": "stdout",
     "output_type": "stream",
     "text": [
      "train loss:      0.24101, accuracy: 0.93456\n",
      "validation loss: 0.29551, accuracy: 0.91940\n",
      "test loss:       0.26690, accuracy: 0.92580\n"
     ]
    }
   ],
   "source": [
    "print_overall_metrics()"
   ]
  },
  {
   "cell_type": "code",
   "execution_count": 14,
   "id": "f4cf7240",
   "metadata": {},
   "outputs": [
    {
     "data": {
      "text/plain": [
       "<matplotlib.legend.Legend at 0x11e86ecd0>"
      ]
     },
     "execution_count": 14,
     "metadata": {},
     "output_type": "execute_result"
    },
    {
     "data": {
      "image/png": "[encoded data removed]",
      "text/plain": [
       "<Figure size 432x288 with 1 Axes>"
      ]
     },
     "metadata": {
      "needs_background": "light"
     },
     "output_type": "display_data"
    }
   ],
   "source": [
    "# Plot train and validation losses:\n",
    "plt.figure()\n",
    "plt.plot(train_loss_log)\n",
    "plt.plot(val_loss_log)\n",
    "plt.legend([\"train loss\", \"validation loss\"])"
   ]
  },
  {
   "cell_type": "markdown",
   "id": "88f3b3d9",
   "metadata": {},
   "source": [
    "Logistic regression gives a test accuracy of 0.926, which we can use as our baseline. We can visualize the results on a few test images:"
   ]
  },
  {
   "cell_type": "code",
   "execution_count": 15,
   "id": "ae94bddc",
   "metadata": {},
   "outputs": [
    {
     "data": {
      "image/png": "[encoded data removed]",
      "text/plain": [
       "<Figure size 432x288 with 1 Axes>"
      ]
     },
     "metadata": {
      "needs_background": "light"
     },
     "output_type": "display_data"
    },
    {
     "data": {
      "image/png": "[encoded data removed]",
      "text/plain": [
       "<Figure size 432x288 with 1 Axes>"
      ]
     },
     "metadata": {
      "needs_background": "light"
     },
     "output_type": "display_data"
    },
    {
     "data": {
      "image/png": "[encoded data removed]",
      "text/plain": [
       "<Figure size 432x288 with 1 Axes>"
      ]
     },
     "metadata": {
      "needs_background": "light"
     },
     "output_type": "display_data"
    },
    {
     "data": {
      "image/png": "[encoded data removed]",
      "text/plain": [
       "<Figure size 432x288 with 1 Axes>"
      ]
     },
     "metadata": {
      "needs_background": "light"
     },
     "output_type": "display_data"
    },
    {
     "data": {
      "image/png": "[encoded data removed]",
      "text/plain": [
       "<Figure size 432x288 with 1 Axes>"
      ]
     },
     "metadata": {
      "needs_background": "light"
     },
     "output_type": "display_data"
    },
    {
     "data": {
      "image/png": "[encoded data removed]",
      "text/plain": [
       "<Figure size 432x288 with 1 Axes>"
      ]
     },
     "metadata": {
      "needs_background": "light"
     },
     "output_type": "display_data"
    },
    {
     "data": {
      "image/png": "[encoded data removed]",
      "text/plain": [
       "<Figure size 432x288 with 1 Axes>"
      ]
     },
     "metadata": {
      "needs_background": "light"
     },
     "output_type": "display_data"
    },
    {
     "data": {
      "image/png": "[encoded data removed]",
      "text/plain": [
       "<Figure size 432x288 with 1 Axes>"
      ]
     },
     "metadata": {
      "needs_background": "light"
     },
     "output_type": "display_data"
    },
    {
     "data": {
      "image/png": "[encoded data removed]",
      "text/plain": [
       "<Figure size 432x288 with 1 Axes>"
      ]
     },
     "metadata": {
      "needs_background": "light"
     },
     "output_type": "display_data"
    },
    {
     "data": {
      "image/png": "[encoded data removed]",
      "text/plain": [
       "<Figure size 432x288 with 1 Axes>"
      ]
     },
     "metadata": {
      "needs_background": "light"
     },
     "output_type": "display_data"
    },
    {
     "data": {
      "image/png": "[encoded data removed]",
      "text/plain": [
       "<Figure size 432x288 with 1 Axes>"
      ]
     },
     "metadata": {
      "needs_background": "light"
     },
     "output_type": "display_data"
    },
    {
     "data": {
      "image/png": "[encoded data removed]",
      "text/plain": [
       "<Figure size 432x288 with 1 Axes>"
      ]
     },
     "metadata": {
      "needs_background": "light"
     },
     "output_type": "display_data"
    },
    {
     "data": {
      "image/png": "[encoded data removed]",
      "text/plain": [
       "<Figure size 432x288 with 1 Axes>"
      ]
     },
     "metadata": {
      "needs_background": "light"
     },
     "output_type": "display_data"
    },
    {
     "data": {
      "image/png": "[encoded data removed]",
      "text/plain": [
       "<Figure size 432x288 with 1 Axes>"
      ]
     },
     "metadata": {
      "needs_background": "light"
     },
     "output_type": "display_data"
    },
    {
     "data": {
      "image/png": "[encoded data removed]",
      "text/plain": [
       "<Figure size 432x288 with 1 Axes>"
      ]
     },
     "metadata": {
      "needs_background": "light"
     },
     "output_type": "display_data"
    },
    {
     "data": {
      "image/png": "[encoded data removed]",
      "text/plain": [
       "<Figure size 432x288 with 1 Axes>"
      ]
     },
     "metadata": {
      "needs_background": "light"
     },
     "output_type": "display_data"
    },
    {
     "data": {
      "image/png": "[encoded data removed]",
      "text/plain": [
       "<Figure size 432x288 with 1 Axes>"
      ]
     },
     "metadata": {
      "needs_background": "light"
     },
     "output_type": "display_data"
    }
   ],
   "source": [
    "# Plot a few examples on test set:\n",
    "\n",
    "model.eval()\n",
    "\n",
    "softmax_fn = torch.nn.Softmax(dim=0)\n",
    "\n",
    "X, y = next(iter(test_dataloader))  # load 1st test batch\n",
    "\n",
    "X, y = X.to(device), y.to(device)\n",
    "\n",
    "# Predict batch:\n",
    "with torch.no_grad():\n",
    "    pred_batch = model(X)\n",
    "\n",
    "for i, (x, pred, true_label) in enumerate(zip(X, pred_batch, y)):\n",
    "\n",
    "    softmax_ = softmax_fn(pred)\n",
    "    \n",
    "    pred_idx = torch.argmax(pred)  # predicted class index\n",
    "    conf = softmax_[pred_idx]      # prediction confidence\n",
    "    \n",
    "    plt.figure()\n",
    "    plt.imshow(x.squeeze())\n",
    "    plt.title(f\"predicted: {pred_idx.item()} (conf {conf:.3f})\")\n",
    "    \n",
    "    if i > 15:\n",
    "        break"
   ]
  },
  {
   "cell_type": "markdown",
   "id": "29c65f0a",
   "metadata": {},
   "source": [
    "### Save model:"
   ]
  },
  {
   "cell_type": "code",
   "execution_count": 16,
   "id": "67a93427",
   "metadata": {},
   "outputs": [],
   "source": [
    "torch.save(model.state_dict(), './saved_models/logistic_regression.pt')"
   ]
  },
  {
   "cell_type": "markdown",
   "id": "3f65eb40",
   "metadata": {},
   "source": [
    "# 2) Multi-Layer Perceptron (1 hidden layer)"
   ]
  },
  {
   "cell_type": "markdown",
   "id": "ab9ea64c",
   "metadata": {},
   "source": [
    "We train a simple Multi-Layer Perceptron (MLP) with 1 hidden layer, and ReLU activation function. We train the model with various optimizers and evaluate the results"
   ]
  },
  {
   "cell_type": "code",
   "execution_count": 17,
   "id": "c9040422",
   "metadata": {},
   "outputs": [
    {
     "name": "stdout",
     "output_type": "stream",
     "text": [
      "MLP(\n",
      "  (flatten): Flatten(start_dim=1, end_dim=-1)\n",
      "  (linear_relu_stack): Sequential(\n",
      "    (0): Linear(in_features=784, out_features=1024, bias=True)\n",
      "    (1): ReLU()\n",
      "    (2): Linear(in_features=1024, out_features=10, bias=True)\n",
      "  )\n",
      ")\n",
      "Model MLP contains 814090 parameters\n"
     ]
    }
   ],
   "source": [
    "class MLP(nn.Module):\n",
    "    def __init__(self):\n",
    "        super(MLP, self).__init__()\n",
    "        self.flatten = nn.Flatten()\n",
    "        self.linear_relu_stack = nn.Sequential(\n",
    "            nn.Linear(28*28, 1024),\n",
    "            nn.ReLU(),\n",
    "            nn.Linear(1024, 10)\n",
    "        )\n",
    "\n",
    "    def forward(self, x):\n",
    "        x = self.flatten(x)\n",
    "        out = self.linear_relu_stack(x)\n",
    "        return out \n",
    "\n",
    "model = MLP().to(device)\n",
    "\n",
    "print(model)\n",
    "print(f'Model {model.__class__.__name__} contains {number_of_parameters(model)} parameters')"
   ]
  },
  {
   "cell_type": "markdown",
   "id": "b79fc54f",
   "metadata": {},
   "source": [
    "## 2.1) SGD optimizer"
   ]
  },
  {
   "cell_type": "code",
   "execution_count": 18,
   "id": "b0dcf8cc",
   "metadata": {
    "scrolled": true
   },
   "outputs": [
    {
     "name": "stdout",
     "output_type": "stream",
     "text": [
      " epoch:  1, training loss: 0.442, validation loss 0.314, validation accuracy 0.906\n",
      " epoch:  2, training loss: 0.224, validation loss 0.202, validation accuracy 0.942\n",
      " epoch:  3, training loss: 0.166, validation loss 0.179, validation accuracy 0.947\n",
      " epoch:  4, training loss: 0.131, validation loss 0.141, validation accuracy 0.958\n",
      " epoch:  5, training loss: 0.108, validation loss 0.124, validation accuracy 0.963\n",
      " epoch:  6, training loss: 0.091, validation loss 0.117, validation accuracy 0.965\n",
      " epoch:  7, training loss: 0.079, validation loss 0.114, validation accuracy 0.967\n",
      " epoch:  8, training loss: 0.069, validation loss 0.101, validation accuracy 0.969\n",
      " epoch:  9, training loss: 0.060, validation loss 0.120, validation accuracy 0.962\n",
      " epoch: 10, training loss: 0.054, validation loss 0.114, validation accuracy 0.964\n",
      " epoch: 11, training loss: 0.048, validation loss 0.090, validation accuracy 0.973\n",
      " epoch: 12, training loss: 0.043, validation loss 0.085, validation accuracy 0.974\n",
      " epoch: 13, training loss: 0.039, validation loss 0.085, validation accuracy 0.975\n",
      " epoch: 14, training loss: 0.035, validation loss 0.081, validation accuracy 0.974\n",
      " epoch: 15, training loss: 0.032, validation loss 0.080, validation accuracy 0.975\n",
      " epoch: 16, training loss: 0.029, validation loss 0.080, validation accuracy 0.975\n",
      " epoch: 17, training loss: 0.026, validation loss 0.077, validation accuracy 0.976\n",
      " epoch: 18, training loss: 0.024, validation loss 0.078, validation accuracy 0.976\n",
      " epoch: 19, training loss: 0.022, validation loss 0.076, validation accuracy 0.977\n",
      " epoch: 20, training loss: 0.020, validation loss 0.075, validation accuracy 0.975\n",
      " epoch: 21, training loss: 0.018, validation loss 0.076, validation accuracy 0.976\n",
      " epoch: 22, training loss: 0.017, validation loss 0.076, validation accuracy 0.975\n",
      " epoch: 23, training loss: 0.015, validation loss 0.075, validation accuracy 0.976\n",
      " epoch: 24, training loss: 0.014, validation loss 0.076, validation accuracy 0.976\n",
      " epoch: 25, training loss: 0.013, validation loss 0.074, validation accuracy 0.977\n",
      " epoch: 26, training loss: 0.012, validation loss 0.075, validation accuracy 0.976\n",
      " epoch: 27, training loss: 0.011, validation loss 0.082, validation accuracy 0.974\n",
      " epoch: 28, training loss: 0.011, validation loss 0.076, validation accuracy 0.976\n",
      " epoch: 29, training loss: 0.010, validation loss 0.075, validation accuracy 0.976\n",
      " epoch: 30, training loss: 0.009, validation loss 0.074, validation accuracy 0.977\n",
      " epoch: 31, training loss: 0.009, validation loss 0.075, validation accuracy 0.976\n",
      " epoch: 32, training loss: 0.008, validation loss 0.076, validation accuracy 0.976\n",
      " epoch: 33, training loss: 0.008, validation loss 0.076, validation accuracy 0.976\n",
      " epoch: 34, training loss: 0.007, validation loss 0.075, validation accuracy 0.977\n",
      " epoch: 35, training loss: 0.007, validation loss 0.076, validation accuracy 0.976\n",
      " epoch: 36, training loss: 0.006, validation loss 0.076, validation accuracy 0.976\n",
      " epoch: 37, training loss: 0.006, validation loss 0.075, validation accuracy 0.977\n",
      " epoch: 38, training loss: 0.006, validation loss 0.078, validation accuracy 0.977\n",
      " epoch: 39, training loss: 0.006, validation loss 0.076, validation accuracy 0.977\n",
      " epoch: 40, training loss: 0.005, validation loss 0.076, validation accuracy 0.977\n",
      " epoch: 41, training loss: 0.005, validation loss 0.077, validation accuracy 0.976\n",
      " epoch: 42, training loss: 0.005, validation loss 0.076, validation accuracy 0.976\n",
      " epoch: 43, training loss: 0.005, validation loss 0.077, validation accuracy 0.977\n",
      " epoch: 44, training loss: 0.004, validation loss 0.077, validation accuracy 0.977\n",
      " epoch: 45, training loss: 0.004, validation loss 0.078, validation accuracy 0.976\n",
      " epoch: 46, training loss: 0.004, validation loss 0.077, validation accuracy 0.977\n",
      " epoch: 47, training loss: 0.004, validation loss 0.077, validation accuracy 0.977\n",
      " epoch: 48, training loss: 0.004, validation loss 0.077, validation accuracy 0.977\n",
      " epoch: 49, training loss: 0.004, validation loss 0.078, validation accuracy 0.976\n",
      " epoch: 50, training loss: 0.004, validation loss 0.077, validation accuracy 0.977\n",
      "\n",
      "Average time per epoch: 2.723s\n"
     ]
    }
   ],
   "source": [
    "model = MLP().to(device)\n",
    "\n",
    "# Optimizer:\n",
    "optimizer = torch.optim.SGD(model.parameters(), lr=1e-1)\n",
    "\n",
    "num_epochs = 50\n",
    "train_loss_log, val_loss_log = train_model(model, optimizer, num_epochs)"
   ]
  },
  {
   "cell_type": "code",
   "execution_count": 19,
   "id": "33235ef1",
   "metadata": {},
   "outputs": [
    {
     "name": "stdout",
     "output_type": "stream",
     "text": [
      "train loss:      0.00326, accuracy: 0.99998\n",
      "validation loss: 0.07742, accuracy: 0.97650\n",
      "test loss:       0.06288, accuracy: 0.98180\n"
     ]
    },
    {
     "data": {
      "text/plain": [
       "<matplotlib.legend.Legend at 0x11ef25e50>"
      ]
     },
     "execution_count": 19,
     "metadata": {},
     "output_type": "execute_result"
    },
    {
     "data": {
      "image/png": "[encoded data removed]",
      "text/plain": [
       "<Figure size 432x288 with 1 Axes>"
      ]
     },
     "metadata": {
      "needs_background": "light"
     },
     "output_type": "display_data"
    }
   ],
   "source": [
    "print_overall_metrics()\n",
    "\n",
    "# Plot train and validation losses:\n",
    "plt.figure()\n",
    "plt.plot(train_loss_log)\n",
    "plt.plot(val_loss_log)\n",
    "plt.legend([\"train loss\", \"validation loss\"])"
   ]
  },
  {
   "cell_type": "markdown",
   "id": "ba0380a7",
   "metadata": {},
   "source": [
    "The MLP gives a test accuracy of 0.982, which is a good improvement compared to logistic regression (0.926), and an impressive result overall for such a simple network. However the training loss looks a bit slow to converge, let's see if we can get a better result (or a similar result with fewer iterations) with a different optimizer:"
   ]
  },
  {
   "cell_type": "markdown",
   "id": "17ddef23",
   "metadata": {},
   "source": [
    "## 2.2) Adam optimizer"
   ]
  },
  {
   "cell_type": "code",
   "execution_count": 20,
   "id": "36b320d8",
   "metadata": {
    "scrolled": true
   },
   "outputs": [
    {
     "name": "stdout",
     "output_type": "stream",
     "text": [
      " epoch:  1, training loss: 0.247, validation loss 0.157, validation accuracy 0.953\n",
      " epoch:  2, training loss: 0.092, validation loss 0.103, validation accuracy 0.968\n",
      " epoch:  3, training loss: 0.059, validation loss 0.090, validation accuracy 0.972\n",
      " epoch:  4, training loss: 0.040, validation loss 0.086, validation accuracy 0.974\n",
      " epoch:  5, training loss: 0.027, validation loss 0.068, validation accuracy 0.980\n",
      " epoch:  6, training loss: 0.020, validation loss 0.087, validation accuracy 0.975\n",
      " epoch:  7, training loss: 0.016, validation loss 0.073, validation accuracy 0.979\n",
      " epoch:  8, training loss: 0.013, validation loss 0.095, validation accuracy 0.974\n",
      " epoch:  9, training loss: 0.012, validation loss 0.079, validation accuracy 0.977\n",
      " epoch: 10, training loss: 0.009, validation loss 0.100, validation accuracy 0.975\n",
      " epoch: 11, training loss: 0.009, validation loss 0.088, validation accuracy 0.977\n",
      " epoch: 12, training loss: 0.008, validation loss 0.094, validation accuracy 0.978\n",
      " epoch: 13, training loss: 0.007, validation loss 0.082, validation accuracy 0.981\n",
      " epoch: 14, training loss: 0.004, validation loss 0.097, validation accuracy 0.980\n",
      " epoch: 15, training loss: 0.008, validation loss 0.108, validation accuracy 0.977\n",
      " epoch: 16, training loss: 0.006, validation loss 0.094, validation accuracy 0.980\n",
      " epoch: 17, training loss: 0.003, validation loss 0.100, validation accuracy 0.980\n",
      " epoch: 18, training loss: 0.006, validation loss 0.160, validation accuracy 0.971\n",
      " epoch: 19, training loss: 0.008, validation loss 0.108, validation accuracy 0.978\n",
      " epoch: 20, training loss: 0.003, validation loss 0.106, validation accuracy 0.980\n",
      " epoch: 21, training loss: 0.003, validation loss 0.112, validation accuracy 0.981\n",
      " epoch: 22, training loss: 0.008, validation loss 0.122, validation accuracy 0.978\n",
      " epoch: 23, training loss: 0.005, validation loss 0.126, validation accuracy 0.978\n",
      " epoch: 24, training loss: 0.005, validation loss 0.112, validation accuracy 0.980\n",
      " epoch: 25, training loss: 0.005, validation loss 0.144, validation accuracy 0.977\n",
      " epoch: 26, training loss: 0.005, validation loss 0.125, validation accuracy 0.980\n",
      " epoch: 27, training loss: 0.002, validation loss 0.126, validation accuracy 0.981\n",
      " epoch: 28, training loss: 0.004, validation loss 0.144, validation accuracy 0.979\n",
      " epoch: 29, training loss: 0.002, validation loss 0.123, validation accuracy 0.981\n",
      " epoch: 30, training loss: 0.007, validation loss 0.120, validation accuracy 0.979\n",
      " epoch: 31, training loss: 0.003, validation loss 0.135, validation accuracy 0.978\n",
      " epoch: 32, training loss: 0.004, validation loss 0.143, validation accuracy 0.979\n",
      " epoch: 33, training loss: 0.003, validation loss 0.136, validation accuracy 0.979\n",
      " epoch: 34, training loss: 0.007, validation loss 0.143, validation accuracy 0.980\n",
      " epoch: 35, training loss: 0.001, validation loss 0.131, validation accuracy 0.981\n",
      " epoch: 36, training loss: 0.003, validation loss 0.160, validation accuracy 0.979\n",
      " epoch: 37, training loss: 0.007, validation loss 0.155, validation accuracy 0.979\n",
      " epoch: 38, training loss: 0.003, validation loss 0.175, validation accuracy 0.977\n",
      " epoch: 39, training loss: 0.002, validation loss 0.134, validation accuracy 0.982\n",
      " epoch: 40, training loss: 0.002, validation loss 0.126, validation accuracy 0.982\n",
      " epoch: 41, training loss: 0.003, validation loss 0.213, validation accuracy 0.974\n",
      " epoch: 42, training loss: 0.006, validation loss 0.141, validation accuracy 0.982\n",
      " epoch: 43, training loss: 0.002, validation loss 0.152, validation accuracy 0.981\n",
      " epoch: 44, training loss: 0.003, validation loss 0.136, validation accuracy 0.982\n",
      " epoch: 45, training loss: 0.004, validation loss 0.172, validation accuracy 0.979\n",
      " epoch: 46, training loss: 0.005, validation loss 0.187, validation accuracy 0.979\n",
      " epoch: 47, training loss: 0.003, validation loss 0.167, validation accuracy 0.980\n",
      " epoch: 48, training loss: 0.003, validation loss 0.172, validation accuracy 0.979\n",
      " epoch: 49, training loss: 0.004, validation loss 0.171, validation accuracy 0.980\n",
      " epoch: 50, training loss: 0.002, validation loss 0.154, validation accuracy 0.982\n",
      "\n",
      "Average time per epoch: 4.521s\n"
     ]
    }
   ],
   "source": [
    "model = MLP().to(device)\n",
    "\n",
    "# Optimizer:\n",
    "optimizer = torch.optim.Adam(model.parameters(), lr=1e-3)\n",
    "\n",
    "num_epochs = 50\n",
    "train_loss_log, val_loss_log = train_model(model, optimizer, num_epochs)"
   ]
  },
  {
   "cell_type": "code",
   "execution_count": 21,
   "id": "d47cda33",
   "metadata": {},
   "outputs": [
    {
     "name": "stdout",
     "output_type": "stream",
     "text": [
      "train loss:      0.00056, accuracy: 0.99982\n",
      "validation loss: 0.15425, accuracy: 0.98150\n",
      "test loss:       0.15611, accuracy: 0.98160\n"
     ]
    },
    {
     "data": {
      "text/plain": [
       "<matplotlib.legend.Legend at 0x11f004610>"
      ]
     },
     "execution_count": 21,
     "metadata": {},
     "output_type": "execute_result"
    },
    {
     "data": {
      "image/png": "[encoded data removed]",
      "text/plain": [
       "<Figure size 432x288 with 1 Axes>"
      ]
     },
     "metadata": {
      "needs_background": "light"
     },
     "output_type": "display_data"
    }
   ],
   "source": [
    "print_overall_metrics()\n",
    "\n",
    "# Plot train and validation losses:\n",
    "plt.figure()\n",
    "plt.plot(train_loss_log)\n",
    "plt.plot(val_loss_log)\n",
    "plt.legend([\"train loss\", \"validation loss\"])"
   ]
  },
  {
   "cell_type": "markdown",
   "id": "a06242d5",
   "metadata": {},
   "source": [
    "Adam gives a much faster convergence, reaching a training loss of 0.004 in 14 iterations instead of 50 for SGD. However as we can see in the validation loss, the model starts overfitting after ~10 iterations. One simple way to overcome this is to simply apply early-stopping, i.e. stop iterating after 10 epochs:"
   ]
  },
  {
   "cell_type": "code",
   "execution_count": 22,
   "id": "cfd26867",
   "metadata": {},
   "outputs": [
    {
     "name": "stdout",
     "output_type": "stream",
     "text": [
      "train loss:      0.01402, accuracy: 0.99588\n",
      "validation loss: 0.09629, accuracy: 0.97610\n",
      "test loss:       0.07469, accuracy: 0.97950\n"
     ]
    }
   ],
   "source": [
    "model = MLP().to(device)\n",
    "\n",
    "# Optimizer:\n",
    "optimizer = torch.optim.Adam(model.parameters(), lr=1e-3)\n",
    "\n",
    "num_epochs = 10\n",
    "train_loss_log, val_loss_log = train_model(model, optimizer, num_epochs, verbose=False)\n",
    "\n",
    "print_overall_metrics()"
   ]
  },
  {
   "cell_type": "markdown",
   "id": "86495e3d",
   "metadata": {},
   "source": [
    "Another strategy to avoid overfitting is to add weight decay to the network:"
   ]
  },
  {
   "cell_type": "code",
   "execution_count": 23,
   "id": "ba26a7d9",
   "metadata": {},
   "outputs": [
    {
     "name": "stdout",
     "output_type": "stream",
     "text": [
      "train loss:      0.06509, accuracy: 0.98436\n",
      "validation loss: 0.09921, accuracy: 0.97220\n",
      "test loss:       0.08534, accuracy: 0.97640\n"
     ]
    },
    {
     "data": {
      "text/plain": [
       "<matplotlib.legend.Legend at 0x11f0816a0>"
      ]
     },
     "execution_count": 23,
     "metadata": {},
     "output_type": "execute_result"
    },
    {
     "data": {
      "image/png": "[encoded data removed]",
      "text/plain": [
       "<Figure size 432x288 with 1 Axes>"
      ]
     },
     "metadata": {
      "needs_background": "light"
     },
     "output_type": "display_data"
    }
   ],
   "source": [
    "model = MLP().to(device)\n",
    "\n",
    "# Optimizer:\n",
    "optimizer = torch.optim.Adam(model.parameters(), lr=1e-3, weight_decay=1e-3)\n",
    "\n",
    "num_epochs = 50\n",
    "train_loss_log, val_loss_log = train_model(model, optimizer, num_epochs, verbose=False)\n",
    "\n",
    "print_overall_metrics()\n",
    "\n",
    "# Plot train and validation losses:\n",
    "plt.figure()\n",
    "plt.plot(train_loss_log)\n",
    "plt.plot(val_loss_log)\n",
    "plt.legend([\"train loss\", \"validation loss\"])"
   ]
  },
  {
   "cell_type": "markdown",
   "id": "769cee78",
   "metadata": {},
   "source": [
    "A more common strategy is to add dropout to the model:"
   ]
  },
  {
   "cell_type": "code",
   "execution_count": 24,
   "id": "55ddca87",
   "metadata": {},
   "outputs": [],
   "source": [
    "class MLP_dropout(nn.Module):\n",
    "    def __init__(self):\n",
    "        super(MLP_dropout, self).__init__()\n",
    "        self.flatten = nn.Flatten()\n",
    "        self.linear_relu_stack = nn.Sequential(\n",
    "            nn.Linear(28*28, 1024),\n",
    "            nn.Dropout(0.5),\n",
    "            nn.ReLU(),\n",
    "            nn.Linear(1024, 10)\n",
    "        )\n",
    "\n",
    "    def forward(self, x):\n",
    "        x = self.flatten(x)\n",
    "        out = self.linear_relu_stack(x)\n",
    "        return out "
   ]
  },
  {
   "cell_type": "code",
   "execution_count": 25,
   "id": "b4e7ad61",
   "metadata": {
    "scrolled": true
   },
   "outputs": [
    {
     "name": "stdout",
     "output_type": "stream",
     "text": [
      " epoch:  1, training loss: 0.296, validation loss 0.154, validation accuracy 0.954\n",
      " epoch:  2, training loss: 0.135, validation loss 0.111, validation accuracy 0.967\n",
      " epoch:  3, training loss: 0.102, validation loss 0.096, validation accuracy 0.970\n",
      " epoch:  4, training loss: 0.084, validation loss 0.087, validation accuracy 0.973\n",
      " epoch:  5, training loss: 0.069, validation loss 0.077, validation accuracy 0.976\n",
      " epoch:  6, training loss: 0.063, validation loss 0.077, validation accuracy 0.977\n",
      " epoch:  7, training loss: 0.056, validation loss 0.072, validation accuracy 0.977\n",
      " epoch:  8, training loss: 0.049, validation loss 0.078, validation accuracy 0.977\n",
      " epoch:  9, training loss: 0.043, validation loss 0.079, validation accuracy 0.978\n",
      " epoch: 10, training loss: 0.040, validation loss 0.088, validation accuracy 0.976\n",
      " epoch: 11, training loss: 0.039, validation loss 0.080, validation accuracy 0.979\n",
      " epoch: 12, training loss: 0.038, validation loss 0.079, validation accuracy 0.979\n",
      " epoch: 13, training loss: 0.034, validation loss 0.075, validation accuracy 0.980\n",
      " epoch: 14, training loss: 0.032, validation loss 0.086, validation accuracy 0.979\n",
      " epoch: 15, training loss: 0.033, validation loss 0.083, validation accuracy 0.980\n",
      " epoch: 16, training loss: 0.030, validation loss 0.081, validation accuracy 0.980\n",
      " epoch: 17, training loss: 0.026, validation loss 0.075, validation accuracy 0.981\n",
      " epoch: 18, training loss: 0.027, validation loss 0.078, validation accuracy 0.982\n",
      " epoch: 19, training loss: 0.026, validation loss 0.078, validation accuracy 0.982\n",
      " epoch: 20, training loss: 0.024, validation loss 0.081, validation accuracy 0.982\n",
      " epoch: 21, training loss: 0.023, validation loss 0.085, validation accuracy 0.981\n",
      " epoch: 22, training loss: 0.025, validation loss 0.095, validation accuracy 0.980\n",
      " epoch: 23, training loss: 0.025, validation loss 0.095, validation accuracy 0.981\n",
      " epoch: 24, training loss: 0.022, validation loss 0.085, validation accuracy 0.983\n",
      " epoch: 25, training loss: 0.020, validation loss 0.095, validation accuracy 0.981\n",
      " epoch: 26, training loss: 0.020, validation loss 0.087, validation accuracy 0.983\n",
      " epoch: 27, training loss: 0.018, validation loss 0.090, validation accuracy 0.981\n",
      " epoch: 28, training loss: 0.019, validation loss 0.099, validation accuracy 0.981\n",
      " epoch: 29, training loss: 0.021, validation loss 0.097, validation accuracy 0.981\n",
      " epoch: 30, training loss: 0.021, validation loss 0.096, validation accuracy 0.982\n",
      " epoch: 31, training loss: 0.021, validation loss 0.107, validation accuracy 0.979\n",
      " epoch: 32, training loss: 0.017, validation loss 0.100, validation accuracy 0.982\n",
      " epoch: 33, training loss: 0.021, validation loss 0.093, validation accuracy 0.983\n",
      " epoch: 34, training loss: 0.019, validation loss 0.103, validation accuracy 0.983\n",
      " epoch: 35, training loss: 0.020, validation loss 0.111, validation accuracy 0.982\n",
      " epoch: 36, training loss: 0.019, validation loss 0.109, validation accuracy 0.983\n",
      " epoch: 37, training loss: 0.014, validation loss 0.109, validation accuracy 0.982\n",
      " epoch: 38, training loss: 0.019, validation loss 0.104, validation accuracy 0.982\n",
      " epoch: 39, training loss: 0.020, validation loss 0.098, validation accuracy 0.984\n",
      " epoch: 40, training loss: 0.015, validation loss 0.107, validation accuracy 0.982\n",
      " epoch: 41, training loss: 0.016, validation loss 0.110, validation accuracy 0.983\n",
      " epoch: 42, training loss: 0.014, validation loss 0.101, validation accuracy 0.984\n",
      " epoch: 43, training loss: 0.019, validation loss 0.112, validation accuracy 0.984\n",
      " epoch: 44, training loss: 0.018, validation loss 0.111, validation accuracy 0.983\n",
      " epoch: 45, training loss: 0.016, validation loss 0.105, validation accuracy 0.984\n",
      " epoch: 46, training loss: 0.017, validation loss 0.117, validation accuracy 0.983\n",
      " epoch: 47, training loss: 0.016, validation loss 0.122, validation accuracy 0.983\n",
      " epoch: 48, training loss: 0.016, validation loss 0.116, validation accuracy 0.983\n",
      " epoch: 49, training loss: 0.016, validation loss 0.115, validation accuracy 0.983\n",
      " epoch: 50, training loss: 0.016, validation loss 0.127, validation accuracy 0.983\n",
      "\n",
      "Average time per epoch: 4.371s\n",
      "train loss:      0.00146, accuracy: 0.99954\n",
      "validation loss: 0.12677, accuracy: 0.98330\n",
      "test loss:       0.11089, accuracy: 0.98420\n"
     ]
    },
    {
     "data": {
      "text/plain": [
       "<matplotlib.legend.Legend at 0x11f11f100>"
      ]
     },
     "execution_count": 25,
     "metadata": {},
     "output_type": "execute_result"
    },
    {
     "data": {
      "image/png": "[encoded data removed]",
      "text/plain": [
       "<Figure size 432x288 with 1 Axes>"
      ]
     },
     "metadata": {
      "needs_background": "light"
     },
     "output_type": "display_data"
    }
   ],
   "source": [
    "model = MLP_dropout().to(device)\n",
    "\n",
    "# Optimizer:\n",
    "optimizer = torch.optim.Adam(model.parameters(), lr=1e-3)\n",
    "\n",
    "num_epochs = 50\n",
    "train_loss_log, val_loss_log = train_model(model, optimizer, num_epochs)\n",
    "\n",
    "print_overall_metrics()\n",
    "\n",
    "# Plot train and validation losses:\n",
    "plt.figure()\n",
    "plt.plot(train_loss_log)\n",
    "plt.plot(val_loss_log)\n",
    "plt.legend([\"train loss\", \"validation loss\"])"
   ]
  },
  {
   "cell_type": "markdown",
   "id": "9f6850e9",
   "metadata": {},
   "source": [
    "### Save model:"
   ]
  },
  {
   "cell_type": "code",
   "execution_count": 26,
   "id": "fc57e921",
   "metadata": {},
   "outputs": [],
   "source": [
    "torch.save(model.state_dict(), './saved_models/MLP.pt')"
   ]
  },
  {
   "cell_type": "markdown",
   "id": "beaa87cf",
   "metadata": {},
   "source": [
    "# 3) Deep vs wide networks\n",
    "\n",
    "We compare deep vs wide networks, with approximately the same number of parameters"
   ]
  },
  {
   "cell_type": "code",
   "execution_count": 27,
   "id": "58349b32",
   "metadata": {},
   "outputs": [
    {
     "name": "stdout",
     "output_type": "stream",
     "text": [
      "Model MLP_wide contains 1628170 parameters\n"
     ]
    }
   ],
   "source": [
    "class MLP_wide(nn.Module):\n",
    "    def __init__(self):\n",
    "        super(MLP_wide, self).__init__()\n",
    "        self.flatten = nn.Flatten()\n",
    "        self.linear_relu_stack = nn.Sequential(\n",
    "            nn.Linear(28*28, 2048),\n",
    "            nn.Dropout(0.5),\n",
    "            nn.ReLU(),\n",
    "            nn.Linear(2048, 10)\n",
    "        )\n",
    "\n",
    "    def forward(self, x):\n",
    "        x = self.flatten(x)\n",
    "        out = self.linear_relu_stack(x)\n",
    "        return out \n",
    "\n",
    "model = MLP_wide().to(device)\n",
    "\n",
    "print(f'Model {model.__class__.__name__} contains {number_of_parameters(model)} parameters')"
   ]
  },
  {
   "cell_type": "code",
   "execution_count": 28,
   "id": "28130adf",
   "metadata": {},
   "outputs": [
    {
     "name": "stdout",
     "output_type": "stream",
     "text": [
      "Model MLP_deep contains 1596426 parameters\n"
     ]
    }
   ],
   "source": [
    "class MLP_deep(nn.Module):\n",
    "    def __init__(self):\n",
    "        super(MLP_deep, self).__init__()\n",
    "        self.flatten = nn.Flatten()\n",
    "        self.linear_relu_stack = nn.Sequential(\n",
    "            nn.Linear(28*28, 1024),\n",
    "            nn.Dropout(0.5),\n",
    "            nn.ReLU(),\n",
    "            nn.Linear(1024, 512),\n",
    "            nn.Dropout(0.5),\n",
    "            nn.ReLU(),\n",
    "            nn.Linear(512, 512),\n",
    "            nn.Dropout(0.5),\n",
    "            nn.ReLU(),\n",
    "            nn.Linear(512, 10)\n",
    "        )\n",
    "\n",
    "    def forward(self, x):\n",
    "        x = self.flatten(x)\n",
    "        out = self.linear_relu_stack(x)\n",
    "        return out \n",
    "\n",
    "model = MLP_deep().to(device)\n",
    "\n",
    "print(f'Model {model.__class__.__name__} contains {number_of_parameters(model)} parameters')"
   ]
  },
  {
   "cell_type": "code",
   "execution_count": 29,
   "id": "10925163",
   "metadata": {
    "scrolled": true
   },
   "outputs": [
    {
     "name": "stdout",
     "output_type": "stream",
     "text": [
      " epoch:  1, training loss: 0.266, validation loss 0.147, validation accuracy 0.955\n",
      " epoch:  2, training loss: 0.125, validation loss 0.107, validation accuracy 0.967\n",
      " epoch:  3, training loss: 0.093, validation loss 0.091, validation accuracy 0.971\n",
      " epoch:  4, training loss: 0.074, validation loss 0.094, validation accuracy 0.972\n",
      " epoch:  5, training loss: 0.064, validation loss 0.082, validation accuracy 0.976\n",
      " epoch:  6, training loss: 0.060, validation loss 0.079, validation accuracy 0.977\n",
      " epoch:  7, training loss: 0.050, validation loss 0.073, validation accuracy 0.980\n",
      " epoch:  8, training loss: 0.043, validation loss 0.079, validation accuracy 0.980\n",
      " epoch:  9, training loss: 0.045, validation loss 0.080, validation accuracy 0.979\n",
      " epoch: 10, training loss: 0.042, validation loss 0.077, validation accuracy 0.980\n",
      " epoch: 11, training loss: 0.034, validation loss 0.079, validation accuracy 0.979\n",
      " epoch: 12, training loss: 0.036, validation loss 0.088, validation accuracy 0.979\n",
      " epoch: 13, training loss: 0.031, validation loss 0.082, validation accuracy 0.981\n",
      " epoch: 14, training loss: 0.028, validation loss 0.085, validation accuracy 0.980\n",
      " epoch: 15, training loss: 0.032, validation loss 0.095, validation accuracy 0.980\n",
      " epoch: 16, training loss: 0.031, validation loss 0.090, validation accuracy 0.981\n",
      " epoch: 17, training loss: 0.029, validation loss 0.089, validation accuracy 0.981\n",
      " epoch: 18, training loss: 0.027, validation loss 0.086, validation accuracy 0.982\n",
      " epoch: 19, training loss: 0.026, validation loss 0.089, validation accuracy 0.981\n",
      " epoch: 20, training loss: 0.025, validation loss 0.087, validation accuracy 0.981\n",
      " epoch: 21, training loss: 0.024, validation loss 0.102, validation accuracy 0.980\n",
      " epoch: 22, training loss: 0.027, validation loss 0.114, validation accuracy 0.979\n",
      " epoch: 23, training loss: 0.023, validation loss 0.095, validation accuracy 0.982\n",
      " epoch: 24, training loss: 0.025, validation loss 0.118, validation accuracy 0.980\n",
      " epoch: 25, training loss: 0.024, validation loss 0.119, validation accuracy 0.980\n",
      " epoch: 26, training loss: 0.021, validation loss 0.111, validation accuracy 0.981\n",
      " epoch: 27, training loss: 0.022, validation loss 0.116, validation accuracy 0.981\n",
      " epoch: 28, training loss: 0.024, validation loss 0.121, validation accuracy 0.980\n",
      " epoch: 29, training loss: 0.024, validation loss 0.116, validation accuracy 0.980\n",
      " epoch: 30, training loss: 0.019, validation loss 0.113, validation accuracy 0.982\n",
      " epoch: 31, training loss: 0.020, validation loss 0.119, validation accuracy 0.981\n",
      " epoch: 32, training loss: 0.021, validation loss 0.116, validation accuracy 0.983\n",
      " epoch: 33, training loss: 0.024, validation loss 0.118, validation accuracy 0.982\n",
      " epoch: 34, training loss: 0.019, validation loss 0.123, validation accuracy 0.982\n",
      " epoch: 35, training loss: 0.020, validation loss 0.135, validation accuracy 0.983\n",
      " epoch: 36, training loss: 0.018, validation loss 0.128, validation accuracy 0.983\n",
      " epoch: 37, training loss: 0.020, validation loss 0.139, validation accuracy 0.982\n",
      " epoch: 38, training loss: 0.022, validation loss 0.156, validation accuracy 0.980\n",
      " epoch: 39, training loss: 0.017, validation loss 0.138, validation accuracy 0.982\n",
      " epoch: 40, training loss: 0.020, validation loss 0.143, validation accuracy 0.982\n",
      " epoch: 41, training loss: 0.018, validation loss 0.128, validation accuracy 0.983\n",
      " epoch: 42, training loss: 0.018, validation loss 0.142, validation accuracy 0.981\n",
      " epoch: 43, training loss: 0.018, validation loss 0.155, validation accuracy 0.982\n",
      " epoch: 44, training loss: 0.016, validation loss 0.147, validation accuracy 0.981\n",
      " epoch: 45, training loss: 0.020, validation loss 0.145, validation accuracy 0.983\n",
      " epoch: 46, training loss: 0.021, validation loss 0.153, validation accuracy 0.983\n",
      " epoch: 47, training loss: 0.018, validation loss 0.146, validation accuracy 0.984\n",
      " epoch: 48, training loss: 0.019, validation loss 0.152, validation accuracy 0.982\n",
      " epoch: 49, training loss: 0.016, validation loss 0.154, validation accuracy 0.983\n",
      " epoch: 50, training loss: 0.017, validation loss 0.149, validation accuracy 0.984\n",
      "\n",
      "Average time per epoch: 6.513s\n",
      "train loss:      0.00155, accuracy: 0.99944\n",
      "validation loss: 0.14874, accuracy: 0.98360\n",
      "test loss:       0.13607, accuracy: 0.98330\n"
     ]
    },
    {
     "data": {
      "text/plain": [
       "<matplotlib.legend.Legend at 0x11f0dd4f0>"
      ]
     },
     "execution_count": 29,
     "metadata": {},
     "output_type": "execute_result"
    },
    {
     "data": {
      "image/png": "[encoded data removed]",
      "text/plain": [
       "<Figure size 432x288 with 1 Axes>"
      ]
     },
     "metadata": {
      "needs_background": "light"
     },
     "output_type": "display_data"
    }
   ],
   "source": [
    "model = MLP_wide().to(device)\n",
    "\n",
    "# Optimizer:\n",
    "optimizer = torch.optim.Adam(model.parameters(), lr=1e-3)\n",
    "\n",
    "num_epochs = 50\n",
    "train_loss_log, val_loss_log = train_model(model, optimizer, num_epochs, verbose=True)\n",
    "\n",
    "print_overall_metrics()\n",
    "\n",
    "# Plot train and validation losses:\n",
    "plt.figure()\n",
    "plt.plot(train_loss_log)\n",
    "plt.plot(val_loss_log)\n",
    "plt.legend([\"train loss\", \"validation loss\"])"
   ]
  },
  {
   "cell_type": "code",
   "execution_count": 30,
   "id": "1d0a006e",
   "metadata": {
    "scrolled": true
   },
   "outputs": [
    {
     "name": "stdout",
     "output_type": "stream",
     "text": [
      " epoch:  1, training loss: 0.351, validation loss 0.140, validation accuracy 0.958\n",
      " epoch:  2, training loss: 0.173, validation loss 0.128, validation accuracy 0.963\n",
      " epoch:  3, training loss: 0.143, validation loss 0.121, validation accuracy 0.964\n",
      " epoch:  4, training loss: 0.124, validation loss 0.096, validation accuracy 0.973\n",
      " epoch:  5, training loss: 0.116, validation loss 0.099, validation accuracy 0.973\n",
      " epoch:  6, training loss: 0.102, validation loss 0.102, validation accuracy 0.972\n",
      " epoch:  7, training loss: 0.099, validation loss 0.085, validation accuracy 0.978\n",
      " epoch:  8, training loss: 0.091, validation loss 0.082, validation accuracy 0.977\n",
      " epoch:  9, training loss: 0.088, validation loss 0.083, validation accuracy 0.978\n",
      " epoch: 10, training loss: 0.084, validation loss 0.084, validation accuracy 0.978\n",
      " epoch: 11, training loss: 0.080, validation loss 0.088, validation accuracy 0.980\n",
      " epoch: 12, training loss: 0.081, validation loss 0.079, validation accuracy 0.978\n",
      " epoch: 13, training loss: 0.072, validation loss 0.074, validation accuracy 0.980\n",
      " epoch: 14, training loss: 0.076, validation loss 0.087, validation accuracy 0.979\n",
      " epoch: 15, training loss: 0.070, validation loss 0.092, validation accuracy 0.980\n",
      " epoch: 16, training loss: 0.073, validation loss 0.080, validation accuracy 0.982\n",
      " epoch: 17, training loss: 0.066, validation loss 0.089, validation accuracy 0.980\n",
      " epoch: 18, training loss: 0.069, validation loss 0.087, validation accuracy 0.981\n",
      " epoch: 19, training loss: 0.063, validation loss 0.085, validation accuracy 0.981\n",
      " epoch: 20, training loss: 0.067, validation loss 0.081, validation accuracy 0.980\n",
      " epoch: 21, training loss: 0.062, validation loss 0.092, validation accuracy 0.979\n",
      " epoch: 22, training loss: 0.062, validation loss 0.085, validation accuracy 0.982\n",
      " epoch: 23, training loss: 0.064, validation loss 0.089, validation accuracy 0.982\n",
      " epoch: 24, training loss: 0.057, validation loss 0.087, validation accuracy 0.982\n",
      " epoch: 25, training loss: 0.057, validation loss 0.081, validation accuracy 0.981\n",
      " epoch: 26, training loss: 0.052, validation loss 0.100, validation accuracy 0.982\n",
      " epoch: 27, training loss: 0.061, validation loss 0.094, validation accuracy 0.982\n",
      " epoch: 28, training loss: 0.062, validation loss 0.097, validation accuracy 0.981\n",
      " epoch: 29, training loss: 0.059, validation loss 0.099, validation accuracy 0.982\n",
      " epoch: 30, training loss: 0.059, validation loss 0.095, validation accuracy 0.982\n",
      " epoch: 31, training loss: 0.057, validation loss 0.092, validation accuracy 0.980\n",
      " epoch: 32, training loss: 0.050, validation loss 0.103, validation accuracy 0.982\n",
      " epoch: 33, training loss: 0.056, validation loss 0.087, validation accuracy 0.983\n",
      " epoch: 34, training loss: 0.056, validation loss 0.090, validation accuracy 0.982\n",
      " epoch: 35, training loss: 0.057, validation loss 0.108, validation accuracy 0.979\n",
      " epoch: 36, training loss: 0.052, validation loss 0.098, validation accuracy 0.981\n",
      " epoch: 37, training loss: 0.049, validation loss 0.097, validation accuracy 0.982\n",
      " epoch: 38, training loss: 0.053, validation loss 0.109, validation accuracy 0.981\n",
      " epoch: 39, training loss: 0.056, validation loss 0.105, validation accuracy 0.982\n",
      " epoch: 40, training loss: 0.048, validation loss 0.098, validation accuracy 0.983\n",
      " epoch: 41, training loss: 0.050, validation loss 0.113, validation accuracy 0.982\n",
      " epoch: 42, training loss: 0.051, validation loss 0.107, validation accuracy 0.981\n",
      " epoch: 43, training loss: 0.053, validation loss 0.110, validation accuracy 0.982\n",
      " epoch: 44, training loss: 0.050, validation loss 0.119, validation accuracy 0.980\n",
      " epoch: 45, training loss: 0.050, validation loss 0.114, validation accuracy 0.981\n",
      " epoch: 46, training loss: 0.049, validation loss 0.112, validation accuracy 0.982\n",
      " epoch: 47, training loss: 0.056, validation loss 0.101, validation accuracy 0.982\n",
      " epoch: 48, training loss: 0.052, validation loss 0.105, validation accuracy 0.982\n",
      " epoch: 49, training loss: 0.047, validation loss 0.117, validation accuracy 0.982\n",
      " epoch: 50, training loss: 0.048, validation loss 0.110, validation accuracy 0.983\n",
      "\n",
      "Average time per epoch: 6.827s\n",
      "train loss:      0.00709, accuracy: 0.99820\n",
      "validation loss: 0.11040, accuracy: 0.98250\n",
      "test loss:       0.09844, accuracy: 0.98280\n"
     ]
    },
    {
     "data": {
      "text/plain": [
       "<matplotlib.legend.Legend at 0x11f04fa30>"
      ]
     },
     "execution_count": 30,
     "metadata": {},
     "output_type": "execute_result"
    },
    {
     "data": {
      "image/png": "[encoded data removed]",
      "text/plain": [
       "<Figure size 432x288 with 1 Axes>"
      ]
     },
     "metadata": {
      "needs_background": "light"
     },
     "output_type": "display_data"
    }
   ],
   "source": [
    "model = MLP_deep().to(device)\n",
    "\n",
    "# Optimizer:\n",
    "optimizer = torch.optim.Adam(model.parameters(), lr=1e-3)\n",
    "\n",
    "num_epochs = 50\n",
    "train_loss_log, val_loss_log = train_model(model, optimizer, num_epochs, verbose=True)\n",
    "\n",
    "print_overall_metrics()\n",
    "\n",
    "# Plot train and validation losses:\n",
    "plt.figure()\n",
    "plt.plot(train_loss_log)\n",
    "plt.plot(val_loss_log)\n",
    "plt.legend([\"train loss\", \"validation loss\"])"
   ]
  },
  {
   "cell_type": "markdown",
   "id": "fac34858",
   "metadata": {},
   "source": [
    "The 2 networks have similar performance, however the deep network tend to overfit less than the wide network"
   ]
  },
  {
   "cell_type": "code",
   "execution_count": 34,
   "id": "3c7012b3",
   "metadata": {},
   "outputs": [
    {
     "name": "stdout",
     "output_type": "stream",
     "text": [
      "[6. 4.] [432. 288.]\n"
     ]
    },
    {
     "data": {
      "image/png": "[encoded data removed]",
      "text/plain": [
       "<Figure size 432x288 with 1 Axes>"
      ]
     },
     "metadata": {
      "needs_background": "light"
     },
     "output_type": "display_data"
    }
   ],
   "source": [
    "plt.figure()\n",
    "plt.plot()\n",
    "\n",
    "fig = plt.gcf()\n",
    "size = fig.get_size_inches()*fig.dpi # size in pixels\n",
    "print(fig.get_size_inches(), size)"
   ]
  },
  {
   "cell_type": "code",
   "execution_count": 35,
   "id": "238b32e1",
   "metadata": {},
   "outputs": [
    {
     "data": {
      "text/plain": [
       "[6.0, 4.0]"
      ]
     },
     "execution_count": 35,
     "metadata": {},
     "output_type": "execute_result"
    }
   ],
   "source": [
    "plt.rcParams['figure.figsize']"
   ]
  },
  {
   "cell_type": "code",
   "execution_count": 36,
   "id": "5408101a",
   "metadata": {},
   "outputs": [
    {
     "data": {
      "text/plain": [
       "array([6., 4.])"
      ]
     },
     "execution_count": 36,
     "metadata": {},
     "output_type": "execute_result"
    }
   ],
   "source": [
    "fig.get_size_inches()"
   ]
  },
  {
   "cell_type": "code",
   "execution_count": null,
   "id": "bd599afb",
   "metadata": {},
   "outputs": [],
   "source": []
  }
 ],
 "metadata": {
  "kernelspec": {
   "display_name": "Python 3 (ipykernel)",
   "language": "python",
   "name": "python3"
  },
  "language_info": {
   "codemirror_mode": {
    "name": "ipython",
    "version": 3
   },
   "file_extension": ".py",
   "mimetype": "text/x-python",
   "name": "python",
   "nbconvert_exporter": "python",
   "pygments_lexer": "ipython3",
   "version": "3.8.13"
  }
 },
 "nbformat": 4,
 "nbformat_minor": 5
}
